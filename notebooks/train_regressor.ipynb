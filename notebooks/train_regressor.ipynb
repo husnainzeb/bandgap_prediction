{
 "cells": [
  {
   "cell_type": "markdown",
   "metadata": {},
   "source": [
    "### Imports"
   ]
  },
  {
   "cell_type": "code",
   "execution_count": 14,
   "metadata": {},
   "outputs": [],
   "source": [
    "import os\n",
    "import pickle\n",
    "import pandas as pd\n",
    "\n",
    "from sklearn.model_selection import train_test_split\n",
    "from sklearn.ensemble import RandomForestRegressor\n",
    "# from sklearn.metrics import mean_squared_error"
   ]
  },
  {
   "cell_type": "markdown",
   "metadata": {},
   "source": [
    "### Paths Setup"
   ]
  },
  {
   "cell_type": "code",
   "execution_count": 37,
   "metadata": {},
   "outputs": [],
   "source": [
    "# Set file paths according to your directory structure\n",
    "\n",
    "train_data_file_path = \"../data/processed/train_dataset_m2.csv\"\n",
    "save_model = True \n",
    "model_name = \"../models/random_forest_regressor.pkl\" "
   ]
  },
  {
   "cell_type": "markdown",
   "metadata": {},
   "source": [
    "### Load Training Data"
   ]
  },
  {
   "cell_type": "code",
   "execution_count": 38,
   "metadata": {},
   "outputs": [
    {
     "name": "stdout",
     "output_type": "stream",
     "text": [
      "Input data of shape (835, 1702), loaded from: ../data/processed/train_dataset_m2.csv\n"
     ]
    }
   ],
   "source": [
    "if os.path.exists(train_data_file_path):\n",
    "    data = pd.read_csv(train_data_file_path)\n",
    "    print(f\"Input data of shape {data.shape}, loaded from: {train_data_file_path}\")\n",
    "else:\n",
    "    print(\"Invalid Path, directory doesn't exists.\")"
   ]
  },
  {
   "cell_type": "code",
   "execution_count": 39,
   "metadata": {},
   "outputs": [
    {
     "data": {
      "text/html": [
       "<div>\n",
       "<style scoped>\n",
       "    .dataframe tbody tr th:only-of-type {\n",
       "        vertical-align: middle;\n",
       "    }\n",
       "\n",
       "    .dataframe tbody tr th {\n",
       "        vertical-align: top;\n",
       "    }\n",
       "\n",
       "    .dataframe thead th {\n",
       "        text-align: right;\n",
       "    }\n",
       "</style>\n",
       "<table border=\"1\" class=\"dataframe\">\n",
       "  <thead>\n",
       "    <tr style=\"text-align: right;\">\n",
       "      <th></th>\n",
       "      <th>nelements</th>\n",
       "      <th>volume</th>\n",
       "      <th>density</th>\n",
       "      <th>density_atomic</th>\n",
       "      <th>uncorrected_energy_per_atom</th>\n",
       "      <th>energy_per_atom</th>\n",
       "      <th>formation_energy_per_atom</th>\n",
       "      <th>efermi</th>\n",
       "      <th>total_magnetization</th>\n",
       "      <th>total_magnetization_normalized_vol</th>\n",
       "      <th>...</th>\n",
       "      <th>MagpieData range GSmagmom</th>\n",
       "      <th>MagpieData mean GSmagmom</th>\n",
       "      <th>MagpieData avg_dev GSmagmom</th>\n",
       "      <th>MagpieData mode GSmagmom</th>\n",
       "      <th>MagpieData minimum SpaceGroupNumber</th>\n",
       "      <th>MagpieData maximum SpaceGroupNumber</th>\n",
       "      <th>MagpieData range SpaceGroupNumber</th>\n",
       "      <th>MagpieData mean SpaceGroupNumber</th>\n",
       "      <th>MagpieData avg_dev SpaceGroupNumber</th>\n",
       "      <th>MagpieData mode SpaceGroupNumber</th>\n",
       "    </tr>\n",
       "  </thead>\n",
       "  <tbody>\n",
       "    <tr>\n",
       "      <th>0</th>\n",
       "      <td>2</td>\n",
       "      <td>74.656154</td>\n",
       "      <td>6.323259</td>\n",
       "      <td>37.328077</td>\n",
       "      <td>-2.883563</td>\n",
       "      <td>-3.150563</td>\n",
       "      <td>-1.192727</td>\n",
       "      <td>1.065132</td>\n",
       "      <td>0.000000e+00</td>\n",
       "      <td>0.000000e+00</td>\n",
       "      <td>...</td>\n",
       "      <td>0.0</td>\n",
       "      <td>0.0</td>\n",
       "      <td>0.0</td>\n",
       "      <td>0.0</td>\n",
       "      <td>64.0</td>\n",
       "      <td>194.0</td>\n",
       "      <td>130.0</td>\n",
       "      <td>129.000000</td>\n",
       "      <td>65.000000</td>\n",
       "      <td>64.0</td>\n",
       "    </tr>\n",
       "    <tr>\n",
       "      <th>1</th>\n",
       "      <td>4</td>\n",
       "      <td>1049.149001</td>\n",
       "      <td>3.754631</td>\n",
       "      <td>30.857324</td>\n",
       "      <td>-4.296240</td>\n",
       "      <td>-4.592123</td>\n",
       "      <td>-0.860239</td>\n",
       "      <td>4.133647</td>\n",
       "      <td>3.101200e-03</td>\n",
       "      <td>2.955920e-06</td>\n",
       "      <td>...</td>\n",
       "      <td>0.0</td>\n",
       "      <td>0.0</td>\n",
       "      <td>0.0</td>\n",
       "      <td>0.0</td>\n",
       "      <td>70.0</td>\n",
       "      <td>229.0</td>\n",
       "      <td>159.0</td>\n",
       "      <td>112.529412</td>\n",
       "      <td>50.034602</td>\n",
       "      <td>70.0</td>\n",
       "    </tr>\n",
       "    <tr>\n",
       "      <th>2</th>\n",
       "      <td>4</td>\n",
       "      <td>3666.041493</td>\n",
       "      <td>4.052397</td>\n",
       "      <td>31.603806</td>\n",
       "      <td>-4.405528</td>\n",
       "      <td>-4.683045</td>\n",
       "      <td>-0.968199</td>\n",
       "      <td>1.911386</td>\n",
       "      <td>2.000000e-07</td>\n",
       "      <td>5.455476e-11</td>\n",
       "      <td>...</td>\n",
       "      <td>0.0</td>\n",
       "      <td>0.0</td>\n",
       "      <td>0.0</td>\n",
       "      <td>0.0</td>\n",
       "      <td>70.0</td>\n",
       "      <td>229.0</td>\n",
       "      <td>159.0</td>\n",
       "      <td>140.034483</td>\n",
       "      <td>77.279429</td>\n",
       "      <td>70.0</td>\n",
       "    </tr>\n",
       "  </tbody>\n",
       "</table>\n",
       "<p>3 rows × 1702 columns</p>\n",
       "</div>"
      ],
      "text/plain": [
       "   nelements       volume   density  density_atomic  \\\n",
       "0          2    74.656154  6.323259       37.328077   \n",
       "1          4  1049.149001  3.754631       30.857324   \n",
       "2          4  3666.041493  4.052397       31.603806   \n",
       "\n",
       "   uncorrected_energy_per_atom  energy_per_atom  formation_energy_per_atom  \\\n",
       "0                    -2.883563        -3.150563                  -1.192727   \n",
       "1                    -4.296240        -4.592123                  -0.860239   \n",
       "2                    -4.405528        -4.683045                  -0.968199   \n",
       "\n",
       "     efermi  total_magnetization  total_magnetization_normalized_vol  ...  \\\n",
       "0  1.065132         0.000000e+00                        0.000000e+00  ...   \n",
       "1  4.133647         3.101200e-03                        2.955920e-06  ...   \n",
       "2  1.911386         2.000000e-07                        5.455476e-11  ...   \n",
       "\n",
       "   MagpieData range GSmagmom MagpieData mean GSmagmom  \\\n",
       "0                        0.0                      0.0   \n",
       "1                        0.0                      0.0   \n",
       "2                        0.0                      0.0   \n",
       "\n",
       "   MagpieData avg_dev GSmagmom  MagpieData mode GSmagmom  \\\n",
       "0                          0.0                       0.0   \n",
       "1                          0.0                       0.0   \n",
       "2                          0.0                       0.0   \n",
       "\n",
       "   MagpieData minimum SpaceGroupNumber  MagpieData maximum SpaceGroupNumber  \\\n",
       "0                                 64.0                                194.0   \n",
       "1                                 70.0                                229.0   \n",
       "2                                 70.0                                229.0   \n",
       "\n",
       "   MagpieData range SpaceGroupNumber  MagpieData mean SpaceGroupNumber  \\\n",
       "0                              130.0                        129.000000   \n",
       "1                              159.0                        112.529412   \n",
       "2                              159.0                        140.034483   \n",
       "\n",
       "   MagpieData avg_dev SpaceGroupNumber  MagpieData mode SpaceGroupNumber  \n",
       "0                            65.000000                              64.0  \n",
       "1                            50.034602                              70.0  \n",
       "2                            77.279429                              70.0  \n",
       "\n",
       "[3 rows x 1702 columns]"
      ]
     },
     "execution_count": 39,
     "metadata": {},
     "output_type": "execute_result"
    }
   ],
   "source": [
    "data.head(3)"
   ]
  },
  {
   "cell_type": "markdown",
   "metadata": {},
   "source": [
    "### Seperate out features and target columns"
   ]
  },
  {
   "cell_type": "code",
   "execution_count": 40,
   "metadata": {},
   "outputs": [
    {
     "data": {
      "text/plain": [
       "((835, 1700), (835,))"
      ]
     },
     "execution_count": 40,
     "metadata": {},
     "output_type": "execute_result"
    }
   ],
   "source": [
    "X_train = data.drop(['band_gap', 'composition'], axis=1)\n",
    "y_train = data['band_gap']\n",
    "\n",
    "X_train.shape, y_train.shape"
   ]
  },
  {
   "cell_type": "markdown",
   "metadata": {},
   "source": [
    "### Model Initialization and Training"
   ]
  },
  {
   "cell_type": "code",
   "execution_count": 41,
   "metadata": {},
   "outputs": [
    {
     "name": "stderr",
     "output_type": "stream",
     "text": [
      "[Parallel(n_jobs=-1)]: Using backend ThreadingBackend with 4 concurrent workers.\n",
      "[Parallel(n_jobs=-1)]: Done  42 tasks      | elapsed:   10.5s\n",
      "[Parallel(n_jobs=-1)]: Done 100 out of 100 | elapsed:   24.0s finished\n"
     ]
    }
   ],
   "source": [
    "model = RandomForestRegressor(\n",
    "   n_estimators=100,\n",
    "   n_jobs=-1, \n",
    "   verbose=1,\n",
    "   random_state=42\n",
    ")\n",
    "model.fit(X_train, y_train)\n",
    "\n",
    "if save_model:\n",
    "    with open(model_name, 'wb') as file:\n",
    "        pickle.dump(model, file)"
   ]
  },
  {
   "cell_type": "code",
   "execution_count": null,
   "metadata": {},
   "outputs": [],
   "source": []
  }
 ],
 "metadata": {
  "kernelspec": {
   "display_name": "Python 3 (ipykernel)",
   "language": "python",
   "name": "python3"
  },
  "language_info": {
   "codemirror_mode": {
    "name": "ipython",
    "version": 3
   },
   "file_extension": ".py",
   "mimetype": "text/x-python",
   "name": "python",
   "nbconvert_exporter": "python",
   "pygments_lexer": "ipython3",
   "version": "3.10.13"
  }
 },
 "nbformat": 4,
 "nbformat_minor": 2
}
