{
 "cells": [
  {
   "cell_type": "markdown",
   "metadata": {},
   "source": [
    "### Imports"
   ]
  },
  {
   "cell_type": "code",
   "execution_count": 1,
   "metadata": {},
   "outputs": [],
   "source": [
    "import os\n",
    "import pickle\n",
    "import pandas as pd\n",
    "from sklearn.model_selection import train_test_split\n",
    "from sklearn.ensemble import RandomForestRegressor\n",
    "from sklearn.metrics import mean_squared_error"
   ]
  },
  {
   "cell_type": "markdown",
   "metadata": {},
   "source": [
    "### Paths Setup"
   ]
  },
  {
   "cell_type": "code",
   "execution_count": 2,
   "metadata": {},
   "outputs": [],
   "source": [
    "# Set file paths according to your directory structure\n",
    "\n",
    "train_data_file_path = \"../data/processed/train_dataset.csv\"\n",
    "save_model = True \n",
    "model_name = \"../models/random_forest_regressor.pkl\" "
   ]
  },
  {
   "cell_type": "markdown",
   "metadata": {},
   "source": [
    "### Load Training Data"
   ]
  },
  {
   "cell_type": "code",
   "execution_count": 3,
   "metadata": {},
   "outputs": [
    {
     "name": "stdout",
     "output_type": "stream",
     "text": [
      "Input data of shape (930, 1701), loaded from: ../data/processed/train_dataset.csv\n"
     ]
    }
   ],
   "source": [
    "if os.path.exists(train_data_file_path):\n",
    "    data = pd.read_csv(train_data_file_path)\n",
    "    print(f\"Input data of shape {data.shape}, loaded from: {train_data_file_path}\")\n",
    "else:\n",
    "    print(\"Invalid Path, directory doesn't exists.\")"
   ]
  },
  {
   "cell_type": "code",
   "execution_count": 4,
   "metadata": {},
   "outputs": [
    {
     "data": {
      "text/html": [
       "<div>\n",
       "<style scoped>\n",
       "    .dataframe tbody tr th:only-of-type {\n",
       "        vertical-align: middle;\n",
       "    }\n",
       "\n",
       "    .dataframe tbody tr th {\n",
       "        vertical-align: top;\n",
       "    }\n",
       "\n",
       "    .dataframe thead th {\n",
       "        text-align: right;\n",
       "    }\n",
       "</style>\n",
       "<table border=\"1\" class=\"dataframe\">\n",
       "  <thead>\n",
       "    <tr style=\"text-align: right;\">\n",
       "      <th></th>\n",
       "      <th>nelements</th>\n",
       "      <th>volume</th>\n",
       "      <th>density</th>\n",
       "      <th>density_atomic</th>\n",
       "      <th>uncorrected_energy_per_atom</th>\n",
       "      <th>energy_per_atom</th>\n",
       "      <th>formation_energy_per_atom</th>\n",
       "      <th>efermi</th>\n",
       "      <th>total_magnetization</th>\n",
       "      <th>total_magnetization_normalized_vol</th>\n",
       "      <th>...</th>\n",
       "      <th>MagpieData range GSmagmom</th>\n",
       "      <th>MagpieData mean GSmagmom</th>\n",
       "      <th>MagpieData avg_dev GSmagmom</th>\n",
       "      <th>MagpieData mode GSmagmom</th>\n",
       "      <th>MagpieData minimum SpaceGroupNumber</th>\n",
       "      <th>MagpieData maximum SpaceGroupNumber</th>\n",
       "      <th>MagpieData range SpaceGroupNumber</th>\n",
       "      <th>MagpieData mean SpaceGroupNumber</th>\n",
       "      <th>MagpieData avg_dev SpaceGroupNumber</th>\n",
       "      <th>MagpieData mode SpaceGroupNumber</th>\n",
       "    </tr>\n",
       "  </thead>\n",
       "  <tbody>\n",
       "    <tr>\n",
       "      <th>0</th>\n",
       "      <td>4</td>\n",
       "      <td>730.072794</td>\n",
       "      <td>4.813240</td>\n",
       "      <td>22.814775</td>\n",
       "      <td>-3.812261</td>\n",
       "      <td>-4.063761</td>\n",
       "      <td>-0.594158</td>\n",
       "      <td>2.046906</td>\n",
       "      <td>0.0</td>\n",
       "      <td>0.0</td>\n",
       "      <td>...</td>\n",
       "      <td>0.0</td>\n",
       "      <td>0.0</td>\n",
       "      <td>0.0</td>\n",
       "      <td>0.0</td>\n",
       "      <td>70.0</td>\n",
       "      <td>225.0</td>\n",
       "      <td>155.0</td>\n",
       "      <td>143.625000</td>\n",
       "      <td>73.62500</td>\n",
       "      <td>70.0</td>\n",
       "    </tr>\n",
       "    <tr>\n",
       "      <th>1</th>\n",
       "      <td>3</td>\n",
       "      <td>267.880017</td>\n",
       "      <td>4.767775</td>\n",
       "      <td>22.323335</td>\n",
       "      <td>-4.002343</td>\n",
       "      <td>-4.253843</td>\n",
       "      <td>-0.470928</td>\n",
       "      <td>2.600055</td>\n",
       "      <td>0.0</td>\n",
       "      <td>0.0</td>\n",
       "      <td>...</td>\n",
       "      <td>0.0</td>\n",
       "      <td>0.0</td>\n",
       "      <td>0.0</td>\n",
       "      <td>0.0</td>\n",
       "      <td>70.0</td>\n",
       "      <td>225.0</td>\n",
       "      <td>155.0</td>\n",
       "      <td>147.500000</td>\n",
       "      <td>77.50000</td>\n",
       "      <td>70.0</td>\n",
       "    </tr>\n",
       "    <tr>\n",
       "      <th>2</th>\n",
       "      <td>3</td>\n",
       "      <td>266.981995</td>\n",
       "      <td>5.746626</td>\n",
       "      <td>38.140285</td>\n",
       "      <td>-2.022912</td>\n",
       "      <td>-2.239483</td>\n",
       "      <td>-0.544875</td>\n",
       "      <td>0.791335</td>\n",
       "      <td>0.0</td>\n",
       "      <td>0.0</td>\n",
       "      <td>...</td>\n",
       "      <td>0.0</td>\n",
       "      <td>0.0</td>\n",
       "      <td>0.0</td>\n",
       "      <td>0.0</td>\n",
       "      <td>64.0</td>\n",
       "      <td>225.0</td>\n",
       "      <td>161.0</td>\n",
       "      <td>124.571429</td>\n",
       "      <td>69.22449</td>\n",
       "      <td>64.0</td>\n",
       "    </tr>\n",
       "  </tbody>\n",
       "</table>\n",
       "<p>3 rows × 1701 columns</p>\n",
       "</div>"
      ],
      "text/plain": [
       "   nelements      volume   density  density_atomic  \\\n",
       "0          4  730.072794  4.813240       22.814775   \n",
       "1          3  267.880017  4.767775       22.323335   \n",
       "2          3  266.981995  5.746626       38.140285   \n",
       "\n",
       "   uncorrected_energy_per_atom  energy_per_atom  formation_energy_per_atom  \\\n",
       "0                    -3.812261        -4.063761                  -0.594158   \n",
       "1                    -4.002343        -4.253843                  -0.470928   \n",
       "2                    -2.022912        -2.239483                  -0.544875   \n",
       "\n",
       "     efermi  total_magnetization  total_magnetization_normalized_vol  ...  \\\n",
       "0  2.046906                  0.0                                 0.0  ...   \n",
       "1  2.600055                  0.0                                 0.0  ...   \n",
       "2  0.791335                  0.0                                 0.0  ...   \n",
       "\n",
       "   MagpieData range GSmagmom  MagpieData mean GSmagmom  \\\n",
       "0                        0.0                       0.0   \n",
       "1                        0.0                       0.0   \n",
       "2                        0.0                       0.0   \n",
       "\n",
       "   MagpieData avg_dev GSmagmom  MagpieData mode GSmagmom  \\\n",
       "0                          0.0                       0.0   \n",
       "1                          0.0                       0.0   \n",
       "2                          0.0                       0.0   \n",
       "\n",
       "   MagpieData minimum SpaceGroupNumber  MagpieData maximum SpaceGroupNumber  \\\n",
       "0                                 70.0                                225.0   \n",
       "1                                 70.0                                225.0   \n",
       "2                                 64.0                                225.0   \n",
       "\n",
       "   MagpieData range SpaceGroupNumber  MagpieData mean SpaceGroupNumber  \\\n",
       "0                              155.0                        143.625000   \n",
       "1                              155.0                        147.500000   \n",
       "2                              161.0                        124.571429   \n",
       "\n",
       "   MagpieData avg_dev SpaceGroupNumber  MagpieData mode SpaceGroupNumber  \n",
       "0                             73.62500                              70.0  \n",
       "1                             77.50000                              70.0  \n",
       "2                             69.22449                              64.0  \n",
       "\n",
       "[3 rows x 1701 columns]"
      ]
     },
     "execution_count": 4,
     "metadata": {},
     "output_type": "execute_result"
    }
   ],
   "source": [
    "data.head(3)"
   ]
  },
  {
   "cell_type": "markdown",
   "metadata": {},
   "source": [
    "### Seperate out features and target columns"
   ]
  },
  {
   "cell_type": "code",
   "execution_count": 5,
   "metadata": {},
   "outputs": [
    {
     "name": "stdout",
     "output_type": "stream",
     "text": [
      "X_train shape: (930, 1700)\n",
      "y_train shape: (930,)\n"
     ]
    }
   ],
   "source": [
    "# Select 'band_gap' as the target label\n",
    "y_train = data['band_gap']\n",
    "\n",
    "# Select the remaining columns as features\n",
    "X_train = data.drop(columns=['band_gap'])\n",
    "\n",
    "print(\"X_train shape:\", X_train.shape)\n",
    "print(\"y_train shape:\", y_train.shape)\n"
   ]
  },
  {
   "cell_type": "markdown",
   "metadata": {},
   "source": [
    "### Model Initialization and Training"
   ]
  },
  {
   "cell_type": "code",
   "execution_count": 9,
   "metadata": {},
   "outputs": [
    {
     "name": "stderr",
     "output_type": "stream",
     "text": [
      "[Parallel(n_jobs=-1)]: Using backend ThreadingBackend with 4 concurrent workers.\n",
      "[Parallel(n_jobs=-1)]: Done  42 tasks      | elapsed:   12.0s\n",
      "[Parallel(n_jobs=-1)]: Done 100 out of 100 | elapsed:   27.1s finished\n"
     ]
    }
   ],
   "source": [
    "model = RandomForestRegressor(\n",
    "   n_estimators=100,\n",
    "   n_jobs=-1, \n",
    "   verbose=1,\n",
    "   random_state=42\n",
    ")\n",
    "model.fit(X_train, y_train)\n",
    "\n",
    "if save_model:\n",
    "    with open(model_name, 'wb') as file:\n",
    "        pickle.dump(model, file)"
   ]
  },
  {
   "cell_type": "code",
   "execution_count": null,
   "metadata": {},
   "outputs": [],
   "source": []
  }
 ],
 "metadata": {
  "kernelspec": {
   "display_name": "Python 3 (ipykernel)",
   "language": "python",
   "name": "python3"
  },
  "language_info": {
   "codemirror_mode": {
    "name": "ipython",
    "version": 3
   },
   "file_extension": ".py",
   "mimetype": "text/x-python",
   "name": "python",
   "nbconvert_exporter": "python",
   "pygments_lexer": "ipython3",
   "version": "3.11.5"
  }
 },
 "nbformat": 4,
 "nbformat_minor": 2
}
