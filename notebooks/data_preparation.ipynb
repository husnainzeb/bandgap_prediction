{
 "cells": [
  {
   "cell_type": "markdown",
   "metadata": {},
   "source": [
    "### Imports"
   ]
  },
  {
   "cell_type": "code",
   "execution_count": 1,
   "metadata": {},
   "outputs": [],
   "source": [
    "import os\n",
    "import pandas as pd\n",
    "\n",
    "from mp_api.client import MPRester\n",
    "from matminer.featurizers.structure.composite import JarvisCFID\n",
    "from matminer.featurizers.conversions import StrToComposition\n",
    "from matminer.featurizers.composition import ElementProperty\n",
    "\n",
    "from dotenv import load_dotenv"
   ]
  },
  {
   "cell_type": "code",
   "execution_count": 2,
   "metadata": {},
   "outputs": [],
   "source": [
    "# Initialize Materials Project API key\n",
    "\n",
    "load_dotenv() \n",
    "mapi_key = os.environ.get('MAPI_KEY')"
   ]
  },
  {
   "cell_type": "markdown",
   "metadata": {},
   "source": [
    "### Paths Setup"
   ]
  },
  {
   "cell_type": "code",
   "execution_count": 12,
   "metadata": {},
   "outputs": [],
   "source": [
    "# Set input and output file paths according to your directory structure\n",
    "\n",
    "input_file_path = \"../data/raw/exp_dataset.xlsx\"\n",
    "output_file_path = \"../data/processed\""
   ]
  },
  {
   "cell_type": "markdown",
   "metadata": {},
   "source": [
    "### Load Input Data"
   ]
  },
  {
   "cell_type": "code",
   "execution_count": null,
   "metadata": {},
   "outputs": [],
   "source": [
    "if os.path.exists(input_file_path):\n",
    "    exp_data = pd.read_excel(input_file_path)\n",
    "    print(f\"Input data of shape {exp_data.shape}, loaded from: {input_file_path}\")\n",
    "else:\n",
    "    print(\"Invalid Path, directory doesn't exists.\")"
   ]
  },
  {
   "cell_type": "markdown",
   "metadata": {},
   "source": [
    "### Prepare Data"
   ]
  },
  {
   "cell_type": "markdown",
   "metadata": {},
   "source": [
    "#### Step 1: \n",
    "Renaming band gap column for readability. [Optional, If you dont want to change the column name update the next occurences accordingly.]"
   ]
  },
  {
   "cell_type": "code",
   "execution_count": null,
   "metadata": {},
   "outputs": [],
   "source": [
    "exp_data.rename(columns={'Eg (eV)': 'band_gap'}, inplace=True)\n",
    "exp_data.head(3)"
   ]
  },
  {
   "cell_type": "markdown",
   "metadata": {},
   "source": [
    "#### Step 2: \n",
    "Check the materials with multi-valued compositions, and calculate mean of the compositions with more than one value."
   ]
  },
  {
   "cell_type": "code",
   "execution_count": null,
   "metadata": {},
   "outputs": [],
   "source": [
    "composition_counts = exp_data['composition'].value_counts()\n",
    "compositions_with_multiple_records = composition_counts[composition_counts > 1]\n",
    "\n",
    "print(compositions_with_multiple_records)"
   ]
  },
  {
   "cell_type": "code",
   "execution_count": null,
   "metadata": {},
   "outputs": [],
   "source": [
    "exp_data = exp_data.groupby('composition')['band_gap'].mean().reset_index()\n",
    "exp_data.shape"
   ]
  },
  {
   "cell_type": "markdown",
   "metadata": {},
   "source": [
    "#### Step 3: \n",
    "Filtering materials, only taking materials with the bandgap between 0 and 6."
   ]
  },
  {
   "cell_type": "code",
   "execution_count": null,
   "metadata": {},
   "outputs": [],
   "source": [
    "exp_data = exp_data[(exp_data['band_gap'] > 0) & (exp_data['band_gap'] < 6)]\n",
    "exp_data.reset_index(drop=True, inplace=True)\n",
    "exp_data.shape"
   ]
  },
  {
   "cell_type": "markdown",
   "metadata": {},
   "source": [
    "#### Step 4: \n",
    "Retrieve some additional data for the filtered materials from the Materials Project.\n",
    "\n",
    "\n",
    "Note that our goal is to the retrieve the structure and some other major properties of filtered materials only for the stable materails, hence specifying the threshold for the energy_above_hull (0)."
   ]
  },
  {
   "cell_type": "code",
   "execution_count": null,
   "metadata": {},
   "outputs": [],
   "source": [
    "dataframes_to_concat = []\n",
    "unstable_materials = []\n",
    "others = []\n",
    "\n",
    "mpr = MPRester(api_key=mapi_key)\n",
    "\n",
    "for index, row in exp_data.iterrows():\n",
    "    composition = str(row['composition'])\n",
    "    band_gap = row['band_gap']\n",
    "    is_processed = False\n",
    "\n",
    "    print(f\"Prcoessing material number : {index}/{len(exp_data)}\")\n",
    "\n",
    "    docs = mpr.summary.search(\n",
    "        formula=composition,\n",
    "        energy_above_hull=(0,0),\n",
    "        all_fields=False,\n",
    "        fields=[\n",
    "            'nelements', 'formula_pretty', 'volume', 'density', 'density_atomic',\n",
    "            'structure', 'uncorrected_energy_per_atom', 'energy_per_atom',\n",
    "            'formation_energy_per_atom', 'efermi', 'is_gap_direct',\n",
    "            'total_magnetization', 'total_magnetization_normalized_vol',\n",
    "            'total_magnetization_normalized_formula_units'\n",
    "        ]\n",
    "    )\n",
    "\n",
    "    if len(docs) != 0:\n",
    "        sdf = pd.DataFrame([docs[0]])\n",
    "        sdf['composition'] = composition\n",
    "        sdf['band_gap'] = band_gap\n",
    "        dataframes_to_concat.append(sdf)\n",
    "        is_processed = True\n",
    "    else:\n",
    "        unstable_materials.append(composition)\n",
    "        is_processed = True\n",
    "\n",
    "    if not is_processed:\n",
    "        others.append(composition)"
   ]
  },
  {
   "cell_type": "code",
   "execution_count": null,
   "metadata": {},
   "outputs": [],
   "source": [
    "print(f\"Total number of stable materials: {len(dataframes_to_concat)}\")\n",
    "print(f\"Total number of unstable materials: {len(unstable_materials)}\")\n",
    "print(f\"Total number of corrupted materials: {len(others)}\")"
   ]
  },
  {
   "cell_type": "code",
   "execution_count": null,
   "metadata": {},
   "outputs": [],
   "source": [
    "# Creating a dataframe of stable materials\n",
    "\n",
    "result_df = pd.concat(dataframes_to_concat, ignore_index=True)\n",
    "result_df.shape"
   ]
  },
  {
   "cell_type": "markdown",
   "metadata": {},
   "source": [
    "#### Step 5:\n",
    "Transform Data "
   ]
  },
  {
   "cell_type": "code",
   "execution_count": null,
   "metadata": {},
   "outputs": [],
   "source": [
    "def transform_dataframe(df):\n",
    "    column_names = []\n",
    "    for property_name in df.iloc[0].values[:-2]:\n",
    "        column_names.append(str(property_name[0]))\n",
    "    column_names.append('composition')\n",
    "    column_names.append('band_gap')\n",
    "    \n",
    "    print(f\"Number of Columns: {len(column_names)}\")\n",
    "    \n",
    "    df.columns = column_names\n",
    "    \n",
    "    def extract_value(tuple_value):\n",
    "        if isinstance(tuple_value, tuple):\n",
    "            return tuple_value[1]\n",
    "        else:\n",
    "            print(f\"Warning: Value '{tuple_value}' is not a tuple. It's a {type(tuple_value)}.\")\n",
    "            return tuple_value\n",
    "    \n",
    "    columns_to_exclude = ['composition', 'band_gap']\n",
    "    columns_to_apply = [col for col in df.columns if col not in columns_to_exclude]  \n",
    "    df[columns_to_apply] = df[columns_to_apply].applymap(extract_value)\n",
    "    \n",
    "    return df"
   ]
  },
  {
   "cell_type": "code",
   "execution_count": null,
   "metadata": {},
   "outputs": [],
   "source": [
    "trans_df = transform_dataframe(result_df.copy())\n",
    "trans_df.head(3)"
   ]
  },
  {
   "cell_type": "markdown",
   "metadata": {},
   "source": [
    "#### Step 6:\n",
    "Check for Nan values and drop extra columns"
   ]
  },
  {
   "cell_type": "code",
   "execution_count": null,
   "metadata": {},
   "outputs": [],
   "source": [
    "trans_df.drop('fields_not_requested', axis=1 , inplace=True)"
   ]
  },
  {
   "cell_type": "code",
   "execution_count": null,
   "metadata": {},
   "outputs": [],
   "source": [
    "trans_df.isna().sum()"
   ]
  },
  {
   "cell_type": "markdown",
   "metadata": {},
   "source": [
    "#### Step 7: \n",
    "Create Descriptors"
   ]
  },
  {
   "cell_type": "code",
   "execution_count": null,
   "metadata": {},
   "outputs": [],
   "source": [
    "# Creating Jarvis descriptors from structures\n",
    "\n",
    "jf = JarvisCFID()"
   ]
  },
  {
   "cell_type": "code",
   "execution_count": null,
   "metadata": {},
   "outputs": [],
   "source": [
    "jarvis_df = jf.featurize_dataframe(trans_df, col_id=\"structure\", ignore_errors=True)"
   ]
  },
  {
   "cell_type": "code",
   "execution_count": null,
   "metadata": {},
   "outputs": [],
   "source": [
    "# Check rows with the Nan enteries\n",
    "\n",
    "rows_with_nan = jarvis_df[jarvis_df.isna().any(axis=1)]\n",
    "num_rows_with_nan = len(rows_with_nan)\n",
    "num_rows_with_nan"
   ]
  },
  {
   "cell_type": "code",
   "execution_count": null,
   "metadata": {},
   "outputs": [],
   "source": [
    "# Dropping Nan rows\n",
    "\n",
    "jarvis_df.dropna(inplace=True)\n",
    "jarvis_df.shape"
   ]
  },
  {
   "cell_type": "code",
   "execution_count": null,
   "metadata": {},
   "outputs": [],
   "source": [
    "# Creating Magpie descriptors from compositions\n",
    "\n",
    "comp_df = jarvis_df.copy()\n",
    "str_to_comp = StrToComposition(target_col_id='composition_pmg')\n",
    "comp_df = str_to_comp.featurize_dataframe(comp_df, col_id='composition')\n",
    "\n",
    "featurizer = ElementProperty.from_preset('magpie')\n",
    "comp_df = featurizer.featurize_dataframe(comp_df, col_id='composition_pmg', ignore_errors=True)\n",
    "comp_df.shape"
   ]
  },
  {
   "cell_type": "code",
   "execution_count": null,
   "metadata": {},
   "outputs": [],
   "source": [
    "# Check for the Nan values, and drop if any.\n",
    "\n",
    "rows_with_nan = comp_df[comp_df.isna().any(axis=1)]\n",
    "num_rows_with_nan = len(rows_with_nan)\n",
    "num_rows_with_nan"
   ]
  },
  {
   "cell_type": "markdown",
   "metadata": {},
   "source": [
    "#### Step 8: \n",
    "\n",
    "Seperate train and test materials"
   ]
  },
  {
   "cell_type": "code",
   "execution_count": 41,
   "metadata": {},
   "outputs": [
    {
     "data": {
      "text/plain": [
       "(1023, 1706)"
      ]
     },
     "execution_count": 41,
     "metadata": {},
     "output_type": "execute_result"
    }
   ],
   "source": [
    "comp_df = pd.read_csv('../data/processed/exp_materials_with_jarvis_and_magpie.csv')\n",
    "comp_df.shape"
   ]
  },
  {
   "cell_type": "code",
   "execution_count": 42,
   "metadata": {},
   "outputs": [
    {
     "data": {
      "text/plain": [
       "124"
      ]
     },
     "execution_count": 42,
     "metadata": {},
     "output_type": "execute_result"
    }
   ],
   "source": [
    "with open('../data/amp_test_materials.txt', 'r') as file:\n",
    "    amp_test_compositions = file.read().splitlines()\n",
    "    \n",
    "len(amp_test_compositions)"
   ]
  },
  {
   "cell_type": "code",
   "execution_count": 43,
   "metadata": {},
   "outputs": [
    {
     "data": {
      "text/plain": [
       "(93, 1706)"
      ]
     },
     "execution_count": 43,
     "metadata": {},
     "output_type": "execute_result"
    }
   ],
   "source": [
    "test_df = comp_df[comp_df['composition'].isin(amp_test_compositions)]\n",
    "test_df.shape"
   ]
  },
  {
   "cell_type": "code",
   "execution_count": 44,
   "metadata": {},
   "outputs": [
    {
     "data": {
      "text/plain": [
       "(930, 1706)"
      ]
     },
     "execution_count": 44,
     "metadata": {},
     "output_type": "execute_result"
    }
   ],
   "source": [
    "indices_to_remove = test_df.index\n",
    "indices_to_remove\n",
    "\n",
    "train_df = comp_df.drop(indices_to_remove)\n",
    "train_df.shape"
   ]
  },
  {
   "cell_type": "markdown",
   "metadata": {},
   "source": [
    "#### Step 9:\n",
    "\n",
    "Finalize Data\n",
    "\n",
    "* Remove columns having all zeros.This maybe different in your case, so please first checkout the zero-values columns and then remove them from the data.\n",
    "* Feature Selection. We have already created a list for you after performing an EDA on features, and have choose top 50 features.\n"
   ]
  },
  {
   "cell_type": "code",
   "execution_count": 45,
   "metadata": {},
   "outputs": [],
   "source": [
    "zero_val_columns = [\n",
    "    \"jml_C-3\",\n",
    "    \"jml_C-5\",\n",
    "    \"jml_C-9\",\n",
    "    \"jml_C-11\",\n",
    "    \"jml_C-15\",\n",
    "    \"jml_C-17\",\n",
    "    \"jml_C-18\",\n",
    "    \"jml_C-19\",\n",
    "    \"jml_C-20\",\n",
    "    \"jml_C-22\",\n",
    "    \"jml_C-28\",\n",
    "    \"jml_C-29\",\n",
    "    \"jml_C-30\",\n",
    "    \"jml_C-31\",\n",
    "    \"jml_C-32\",\n",
    "    \"jml_C-34\",\n",
    "    \"jml_nn_1\",\n",
    "    \"jml_nn_2\",\n",
    "    \"jml_nn_8\",\n",
    "    \"jml_nn_9\",\n",
    "    \"jml_rdf_1\",\n",
    "    \"jml_rdf_2\",\n",
    "    \"jml_rdf_7\",\n",
    "    \"jml_rdf_8\",\n",
    "    \"MagpieData minimum GSmagmom\",\n",
    "    \"MagpieData minimum NdUnfilled\",\n",
    "    \"MagpieDtaa minimum NfUnfilled\",\n",
    "    \"MagpieDtaa minimum NfValence\",\n",
    "    \"MagpieData mode NfUnfilled\",\n",
    "]"
   ]
  },
  {
   "cell_type": "code",
   "execution_count": 46,
   "metadata": {},
   "outputs": [],
   "source": [
    "top_50_features = [\n",
    "    'jml_mop_eg',\n",
    "     'jml_op_eg',\n",
    "     'efermi',\n",
    "     'density',\n",
    "     'MagpieData mode Electronegativity',\n",
    "     'formation_energy_per_atom',\n",
    "     'MagpieData mean CovalentRadius',\n",
    "     'MagpieData mean MeltingT',\n",
    "     'MagpieData range Electronegativity',\n",
    "     'MagpieData mean Electronegativity',\n",
    "     'MagpieData maximum Electronegativity',\n",
    "     'MagpieData minimum MeltingT',\n",
    "     'jml_first_ion_en_divi_hfus',\n",
    "     'MagpieData mode MeltingT',\n",
    "     'MagpieData avg_dev Electronegativity',\n",
    "     'jml_atom_mass_divi_mol_vol',\n",
    "     'MagpieData mean Row',\n",
    "     'MagpieData avg_dev NpValence',\n",
    "     'jml_oq_enp',\n",
    "     'jml_hfus_mult_atom_mass',\n",
    "     'jml_hfus_divi_polzbl',\n",
    "     'jml_hfus_divi_therm_cond',\n",
    "     'jml_mol_vol_divi_mp',\n",
    "     'jml_first_ion_en_divi_therm_cond',\n",
    "     'jml_mp_mult_atom_mass',\n",
    "     'jml_first_ion_en_divi_bp',\n",
    "     'jml_atom_rad_mult_X',\n",
    "     'jml_first_ion_en_mult_atom_rad',\n",
    "     'MagpieData avg_dev SpaceGroupNumber',\n",
    "     'jml_first_ion_en_divi_mp',\n",
    "     'jml_max_oxid_s',\n",
    "     'jml_mp_divi_polzbl',\n",
    "     'jml_mol_vol_divi_atom_mass',\n",
    "     'jml_me3',\n",
    "     'MagpieData mode GSvolume_pa',\n",
    "     'jml_e3',\n",
    "     'jml_atom_rad_add_X',\n",
    "     'MagpieData mean NdUnfilled',\n",
    "     'MagpieData avg_dev NpUnfilled',\n",
    "     'density_atomic',\n",
    "     'jml_mp_divi_therm_cond',\n",
    "     'jml_nn_72',\n",
    "     'jml_min_oxid_s',\n",
    "     'jml_C-2',\n",
    "     'jml_adf1_120',\n",
    "     'jml_bp_divi_therm_cond',\n",
    "     'jml_nn_35',\n",
    "     'jml_elec_aff_mult_therm_cond',\n",
    "     'MagpieData mean Number',\n",
    "     'jml_rdf_30',\n",
    "     'band_gap' # target column\n",
    "]"
   ]
  },
  {
   "cell_type": "code",
   "execution_count": 47,
   "metadata": {},
   "outputs": [],
   "source": [
    "def finalize_data(comp_df):    \n",
    "    # Filter bandgap\n",
    "#     comp_df = comp_df[(comp_df['band_gap'] <= 5)]\n",
    "    \n",
    "    # Remove outliers\n",
    "#     comp_df = comp_df[comp_df[\"total_magnetization_normalized_formula_units\"] < 25]\n",
    "#     comp_df = comp_df[comp_df[\"volume\"] < 6000]\n",
    "#     comp_df = comp_df[comp_df[\"density\"] < 12]\n",
    "    \n",
    "#     # Remove zero-valued columns\n",
    "#     data_columns = comp_df.columns.tolist()\n",
    "\n",
    "#     for col in data_columns:\n",
    "#         if col in zero_val_columns:\n",
    "#             comp_df.drop(col, axis=1, inplace=True)\n",
    "            \n",
    "    # Feature Selection\n",
    "#     comp_df = comp_df[top_50_features]\n",
    "\n",
    "    # Remove non-numerical columns\n",
    "    non_numeric_columns = comp_df.select_dtypes(exclude=['int64', 'float64']).columns.tolist()\n",
    "    comp_df = comp_df.drop(columns=non_numeric_columns, axis=1)\n",
    "    \n",
    "    # Reset Index\n",
    "    comp_df.reset_index(drop=True, inplace=True)\n",
    "\n",
    "    return comp_df"
   ]
  },
  {
   "cell_type": "code",
   "execution_count": 48,
   "metadata": {},
   "outputs": [
    {
     "data": {
      "text/plain": [
       "((930, 1701), (93, 1701))"
      ]
     },
     "execution_count": 48,
     "metadata": {},
     "output_type": "execute_result"
    }
   ],
   "source": [
    "train_data = finalize_data(train_df)\n",
    "test_data = finalize_data(test_df)\n",
    "\n",
    "train_data.shape, test_data.shape"
   ]
  },
  {
   "cell_type": "markdown",
   "metadata": {},
   "source": [
    "#### Step 10:\n",
    "Save the finalized data"
   ]
  },
  {
   "cell_type": "code",
   "execution_count": 49,
   "metadata": {},
   "outputs": [],
   "source": [
    "train_data.to_csv(os.path.join(output_file_path, \"train_dataset.csv\"), index=False)\n",
    "test_data.to_csv(os.path.join(output_file_path, \"test_dataset.csv\"), index=False)"
   ]
  },
  {
   "cell_type": "code",
   "execution_count": null,
   "metadata": {},
   "outputs": [],
   "source": []
  }
 ],
 "metadata": {
  "kernelspec": {
   "display_name": "Python 3 (ipykernel)",
   "language": "python",
   "name": "python3"
  },
  "language_info": {
   "codemirror_mode": {
    "name": "ipython",
    "version": 3
   },
   "file_extension": ".py",
   "mimetype": "text/x-python",
   "name": "python",
   "nbconvert_exporter": "python",
   "pygments_lexer": "ipython3",
   "version": "3.11.5"
  }
 },
 "nbformat": 4,
 "nbformat_minor": 2
}
