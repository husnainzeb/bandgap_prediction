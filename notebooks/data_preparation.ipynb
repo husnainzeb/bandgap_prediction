{
 "cells": [
  {
   "cell_type": "markdown",
   "metadata": {},
   "source": [
    "### Imports"
   ]
  },
  {
   "cell_type": "code",
   "execution_count": null,
   "metadata": {},
   "outputs": [],
   "source": [
    "import os\n",
    "import pandas as pd\n",
    "\n",
    "from mp_api.client import MPRester\n",
    "from matminer.featurizers.structure.composite import JarvisCFID\n",
    "from matminer.featurizers.conversions import StrToComposition\n",
    "from matminer.featurizers.composition import ElementProperty\n",
    "\n",
    "from dotenv import load_dotenv"
   ]
  },
  {
   "cell_type": "code",
   "execution_count": null,
   "metadata": {},
   "outputs": [],
   "source": [
    "# Initialize Materials Project API key\n",
    "\n",
    "load_dotenv() \n",
    "mapi_key = os.environ.get('MAPI_KEY')"
   ]
  },
  {
   "cell_type": "markdown",
   "metadata": {},
   "source": [
    "### Paths Setup"
   ]
  },
  {
   "cell_type": "code",
   "execution_count": null,
   "metadata": {},
   "outputs": [],
   "source": [
    "# Set input and output file paths according to your directory structure\n",
    "\n",
    "input_file_path = \"../data/raw/exp_dataset.xlsx\"\n",
    "output_file_path = \"../data/processed/exp_materials_with_jarvis_and_magpie.csv\""
   ]
  },
  {
   "cell_type": "markdown",
   "metadata": {},
   "source": [
    "### Load Input Data"
   ]
  },
  {
   "cell_type": "code",
   "execution_count": null,
   "metadata": {},
   "outputs": [],
   "source": [
    "if os.path.exists(input_file_path):\n",
    "    exp_data = pd.read_excel(input_file_path)\n",
    "    print(f\"Input data of shape {exp_data.shape}, loaded from: {input_file_path}\")\n",
    "else:\n",
    "    print(\"Invalid Path, directory doesn't exists.\")"
   ]
  },
  {
   "cell_type": "markdown",
   "metadata": {},
   "source": [
    "### Prepare Data"
   ]
  },
  {
   "cell_type": "markdown",
   "metadata": {},
   "source": [
    "1. Renaming band gap column for readability. [Optional, If you dont want to change the column name update the next occurences accordingly.]"
   ]
  },
  {
   "cell_type": "code",
   "execution_count": null,
   "metadata": {},
   "outputs": [],
   "source": [
    "exp_data.rename(columns={'Eg (eV)': 'band_gap'}, inplace=True)\n",
    "exp_data.head(3)"
   ]
  },
  {
   "cell_type": "markdown",
   "metadata": {},
   "source": [
    "2. Check the materials with multi-valued compositions, and calculate mean of the compositions with more than one value."
   ]
  },
  {
   "cell_type": "code",
   "execution_count": null,
   "metadata": {},
   "outputs": [],
   "source": [
    "composition_counts = exp_data['composition'].value_counts()\n",
    "compositions_with_multiple_records = composition_counts[composition_counts > 1]\n",
    "\n",
    "print(compositions_with_multiple_records)"
   ]
  },
  {
   "cell_type": "code",
   "execution_count": null,
   "metadata": {},
   "outputs": [],
   "source": [
    "exp_data = exp_data.groupby('composition')['band_gap'].mean().reset_index()\n",
    "exp_data.shape"
   ]
  },
  {
   "cell_type": "markdown",
   "metadata": {},
   "source": [
    "3. Filtering materials, only taking materials with the bandgap between 0 and 6."
   ]
  },
  {
   "cell_type": "code",
   "execution_count": null,
   "metadata": {},
   "outputs": [],
   "source": [
    "exp_data = exp_data[(exp_data['band_gap'] > 0) & (exp_data['band_gap'] < 6)]\n",
    "exp_data.reset_index(drop=True, inplace=True)\n",
    "exp_data.shape"
   ]
  },
  {
   "cell_type": "markdown",
   "metadata": {},
   "source": [
    "4. Retrieve some additional data for the filtered materials from the Materials Project.\n",
    "\n",
    "\n",
    "Note that our goal is to the retrieve the structure and some other major properties of filtered materials only for the stable materails, hence specifying the threshold for the energy_above_hull (0)."
   ]
  },
  {
   "cell_type": "code",
   "execution_count": null,
   "metadata": {},
   "outputs": [],
   "source": [
    "dataframes_to_concat = []\n",
    "unstable_materials = []\n",
    "others = []\n",
    "\n",
    "mpr = MPRester(api_key=mapi_key)\n",
    "\n",
    "for index, row in exp_data.iterrows():\n",
    "    composition = str(row['composition'])\n",
    "    band_gap = row['band_gap']\n",
    "    is_processed = False\n",
    "\n",
    "    print(f\"Prcoessing material number : {index}/{len(exp_data)}\")\n",
    "\n",
    "    docs = mpr.summary.search(\n",
    "        formula=composition,\n",
    "        energy_above_hull=(0,0),\n",
    "        all_fields=False,\n",
    "        fields=[\n",
    "            'nelements', 'formula_pretty', 'volume', 'density', 'density_atomic',\n",
    "            'structure', 'uncorrected_energy_per_atom', 'energy_per_atom',\n",
    "            'formation_energy_per_atom', 'efermi', 'is_gap_direct',\n",
    "            'total_magnetization', 'total_magnetization_normalized_vol',\n",
    "            'total_magnetization_normalized_formula_units'\n",
    "        ]\n",
    "    )\n",
    "\n",
    "    if len(docs) != 0:\n",
    "        sdf = pd.DataFrame([docs[0]])\n",
    "        sdf['composition'] = composition\n",
    "        sdf['band_gap'] = band_gap\n",
    "        dataframes_to_concat.append(sdf)\n",
    "        is_processed = True\n",
    "    else:\n",
    "        unstable_materials.append(composition)\n",
    "        is_processed = True\n",
    "\n",
    "    if not is_processed:\n",
    "        others.append(composition)"
   ]
  },
  {
   "cell_type": "code",
   "execution_count": null,
   "metadata": {},
   "outputs": [],
   "source": [
    "print(f\"Total number of stable materials: {len(dataframes_to_concat)}\")\n",
    "print(f\"Total number of unstable materials: {len(unstable_materials)}\")\n",
    "print(f\"Total number of corrupted materials: {len(others)}\")"
   ]
  },
  {
   "cell_type": "code",
   "execution_count": null,
   "metadata": {},
   "outputs": [],
   "source": [
    "# Creating a dataframe of stable materials\n",
    "\n",
    "result_df = pd.concat(dataframes_to_concat, ignore_index=True)\n",
    "result_df.shape"
   ]
  },
  {
   "cell_type": "markdown",
   "metadata": {},
   "source": [
    "5. Transform Data "
   ]
  },
  {
   "cell_type": "code",
   "execution_count": null,
   "metadata": {},
   "outputs": [],
   "source": [
    "def transform_dataframe(df):\n",
    "    column_names = []\n",
    "    for property_name in df.iloc[0].values[:-2]:\n",
    "        column_names.append(str(property_name[0]))\n",
    "    column_names.append('composition')\n",
    "    column_names.append('band_gap')\n",
    "    \n",
    "    print(f\"Number of Columns: {len(column_names)}\")\n",
    "    \n",
    "    df.columns = column_names\n",
    "    \n",
    "    def extract_value(tuple_value):\n",
    "        return tuple_value[1]\n",
    "    \n",
    "    columns_to_apply = df.columns[:-2]\n",
    "    df[columns_to_apply] = df[columns_to_apply].applymap(extract_value)\n",
    "    \n",
    "    return df"
   ]
  },
  {
   "cell_type": "code",
   "execution_count": null,
   "metadata": {},
   "outputs": [],
   "source": [
    "trans_df = transform_dataframe(result_df.copy())\n",
    "trans_df.head(3)"
   ]
  },
  {
   "cell_type": "markdown",
   "metadata": {},
   "source": [
    "6. Check for Nan values and drop extra columns"
   ]
  },
  {
   "cell_type": "code",
   "execution_count": null,
   "metadata": {},
   "outputs": [],
   "source": [
    "trans_df.drop('fields_not_requested', axis=1 , inplace=True)"
   ]
  },
  {
   "cell_type": "code",
   "execution_count": null,
   "metadata": {},
   "outputs": [],
   "source": [
    "trans_df.isna().sum()"
   ]
  },
  {
   "cell_type": "markdown",
   "metadata": {},
   "source": [
    "7. Create Descriptors"
   ]
  },
  {
   "cell_type": "code",
   "execution_count": null,
   "metadata": {},
   "outputs": [],
   "source": [
    "# Creating Jarvis descriptors from structures\n",
    "\n",
    "jf = JarvisCFID()"
   ]
  },
  {
   "cell_type": "code",
   "execution_count": null,
   "metadata": {},
   "outputs": [],
   "source": [
    "jarvis_df = jf.featurize_dataframe(trans_df, col_id=\"structure\", ignore_errors=True)"
   ]
  },
  {
   "cell_type": "code",
   "execution_count": null,
   "metadata": {},
   "outputs": [],
   "source": [
    "# Check rows with the Nan enteries\n",
    "\n",
    "rows_with_nan = jarvis_df[jarvis_df.isna().any(axis=1)]\n",
    "num_rows_with_nan = len(rows_with_nan)\n",
    "num_rows_with_nan"
   ]
  },
  {
   "cell_type": "code",
   "execution_count": null,
   "metadata": {},
   "outputs": [],
   "source": [
    "# Dropping Nan rows\n",
    "\n",
    "jarvis_df.dropna(inplace=True)\n",
    "jarvis_df.shape"
   ]
  },
  {
   "cell_type": "code",
   "execution_count": null,
   "metadata": {},
   "outputs": [],
   "source": [
    "# Creating Magpie descriptors from compositions\n",
    "\n",
    "comp_df = jarvis_df.copy()\n",
    "str_to_comp = StrToComposition(target_col_id='composition_pmg')\n",
    "comp_df = str_to_comp.featurize_dataframe(comp_df, col_id='composition')\n",
    "\n",
    "featurizer = ElementProperty.from_preset('magpie')\n",
    "comp_df = featurizer.featurize_dataframe(comp_df, col_id='composition_pmg', ignore_errors=True)\n",
    "comp_df.shape"
   ]
  },
  {
   "cell_type": "code",
   "execution_count": null,
   "metadata": {},
   "outputs": [],
   "source": [
    "# Check for the Nan values, and drop if any.\n",
    "\n",
    "rows_with_nan = comp_df[comp_df.isna().any(axis=1)]\n",
    "num_rows_with_nan = len(rows_with_nan)\n",
    "num_rows_with_nan"
   ]
  },
  {
   "cell_type": "markdown",
   "metadata": {},
   "source": [
    "8. Save Processed Data"
   ]
  },
  {
   "cell_type": "code",
   "execution_count": null,
   "metadata": {},
   "outputs": [],
   "source": [
    "comp_df.to_csv(output_file_path, index=False)\n",
    "print(f\"Processed data of shape {comp_df.shape}, saved at: {output_file_path}\")"
   ]
  }
 ],
 "metadata": {
  "language_info": {
   "name": "python"
  },
  "orig_nbformat": 4
 },
 "nbformat": 4,
 "nbformat_minor": 2
}
