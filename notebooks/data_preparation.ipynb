{
 "cells": [
  {
   "cell_type": "markdown",
   "metadata": {},
   "source": [
    "### Imports"
   ]
  },
  {
   "cell_type": "code",
   "execution_count": 31,
   "metadata": {},
   "outputs": [],
   "source": [
    "import os\n",
    "import pandas as pd\n",
    "# pd.options.display.max_rows = 2000\n",
    "\n",
    "from mp_api.client import MPRester\n",
    "from matminer.featurizers.structure.composite import JarvisCFID\n",
    "from matminer.featurizers.conversions import StrToComposition\n",
    "from matminer.featurizers.composition import ElementProperty\n",
    "\n",
    "from dotenv import load_dotenv"
   ]
  },
  {
   "cell_type": "code",
   "execution_count": 32,
   "metadata": {},
   "outputs": [],
   "source": [
    "# Initialize Materials Project API key\n",
    "\n",
    "load_dotenv() \n",
    "mapi_key = os.environ.get('MAPI_KEY')"
   ]
  },
  {
   "cell_type": "markdown",
   "metadata": {},
   "source": [
    "### Paths Setup"
   ]
  },
  {
   "cell_type": "code",
   "execution_count": 33,
   "metadata": {},
   "outputs": [],
   "source": [
    "# Set input and output file paths according to your directory structure\n",
    "\n",
    "input_file_path = \"../data/raw/exp_dataset.xlsx\"\n",
    "output_file_path = \"../data/processed\""
   ]
  },
  {
   "cell_type": "markdown",
   "metadata": {},
   "source": [
    "### Load Input Data"
   ]
  },
  {
   "cell_type": "code",
   "execution_count": 34,
   "metadata": {},
   "outputs": [
    {
     "name": "stdout",
     "output_type": "stream",
     "text": [
      "Input data of shape (6354, 2), loaded from: ../data/raw/exp_dataset.xlsx\n"
     ]
    }
   ],
   "source": [
    "if os.path.exists(input_file_path):\n",
    "    exp_data = pd.read_excel(input_file_path)\n",
    "    print(f\"Input data of shape {exp_data.shape}, loaded from: {input_file_path}\")\n",
    "else:\n",
    "    print(\"Invalid Path, directory doesn't exists.\")"
   ]
  },
  {
   "cell_type": "markdown",
   "metadata": {},
   "source": [
    "### Prepare Data"
   ]
  },
  {
   "cell_type": "markdown",
   "metadata": {},
   "source": [
    "#### Step 1: \n",
    "Renaming band gap column for readability. [Optional, If you dont want to change the column name update the next occurences accordingly.]"
   ]
  },
  {
   "cell_type": "code",
   "execution_count": 35,
   "metadata": {},
   "outputs": [
    {
     "data": {
      "text/html": [
       "<div>\n",
       "<style scoped>\n",
       "    .dataframe tbody tr th:only-of-type {\n",
       "        vertical-align: middle;\n",
       "    }\n",
       "\n",
       "    .dataframe tbody tr th {\n",
       "        vertical-align: top;\n",
       "    }\n",
       "\n",
       "    .dataframe thead th {\n",
       "        text-align: right;\n",
       "    }\n",
       "</style>\n",
       "<table border=\"1\" class=\"dataframe\">\n",
       "  <thead>\n",
       "    <tr style=\"text-align: right;\">\n",
       "      <th></th>\n",
       "      <th>composition</th>\n",
       "      <th>band_gap</th>\n",
       "    </tr>\n",
       "  </thead>\n",
       "  <tbody>\n",
       "    <tr>\n",
       "      <th>0</th>\n",
       "      <td>Hg0.7Cd0.3Te</td>\n",
       "      <td>0.350</td>\n",
       "    </tr>\n",
       "    <tr>\n",
       "      <th>1</th>\n",
       "      <td>CuBr</td>\n",
       "      <td>3.077</td>\n",
       "    </tr>\n",
       "    <tr>\n",
       "      <th>2</th>\n",
       "      <td>LuP</td>\n",
       "      <td>1.300</td>\n",
       "    </tr>\n",
       "  </tbody>\n",
       "</table>\n",
       "</div>"
      ],
      "text/plain": [
       "    composition  band_gap\n",
       "0  Hg0.7Cd0.3Te     0.350\n",
       "1          CuBr     3.077\n",
       "2           LuP     1.300"
      ]
     },
     "execution_count": 35,
     "metadata": {},
     "output_type": "execute_result"
    }
   ],
   "source": [
    "exp_data.rename(columns={'Eg (eV)': 'band_gap'}, inplace=True)\n",
    "exp_data.head(3)"
   ]
  },
  {
   "cell_type": "markdown",
   "metadata": {},
   "source": [
    "#### Step 2: \n",
    "Check the materials with multi-valued compositions, and calculate mean of the compositions with more than one value."
   ]
  },
  {
   "cell_type": "code",
   "execution_count": 36,
   "metadata": {},
   "outputs": [
    {
     "name": "stdout",
     "output_type": "stream",
     "text": [
      "CdS                         27\n",
      "GaSe                        26\n",
      "CdSe                        25\n",
      "GaAs                        25\n",
      "As2S3                       24\n",
      "                            ..\n",
      "SrTe                         2\n",
      "Tl2TeI6                      2\n",
      "PbSnS3                       2\n",
      "AgInTe2                      2\n",
      "Pb0.97Se0.97Sn0.03Se0.03     2\n",
      "Name: composition, Length: 451, dtype: int64\n"
     ]
    }
   ],
   "source": [
    "composition_counts = exp_data['composition'].value_counts()\n",
    "compositions_with_multiple_records = composition_counts[composition_counts > 1]\n",
    "\n",
    "print(compositions_with_multiple_records)"
   ]
  },
  {
   "cell_type": "code",
   "execution_count": 37,
   "metadata": {},
   "outputs": [
    {
     "data": {
      "text/plain": [
       "(4941, 2)"
      ]
     },
     "execution_count": 37,
     "metadata": {},
     "output_type": "execute_result"
    }
   ],
   "source": [
    "exp_data = exp_data.groupby('composition')['band_gap'].mean().reset_index()\n",
    "exp_data.shape"
   ]
  },
  {
   "cell_type": "markdown",
   "metadata": {},
   "source": [
    "#### Step 3: \n",
    "Filtering materials, only taking materials with the bandgap between 0 and 6."
   ]
  },
  {
   "cell_type": "code",
   "execution_count": 38,
   "metadata": {},
   "outputs": [
    {
     "data": {
      "text/plain": [
       "(2422, 2)"
      ]
     },
     "execution_count": 38,
     "metadata": {},
     "output_type": "execute_result"
    }
   ],
   "source": [
    "exp_data = exp_data[(exp_data['band_gap'] > 0) & (exp_data['band_gap'] < 6)]\n",
    "exp_data.reset_index(drop=True, inplace=True)\n",
    "exp_data.shape"
   ]
  },
  {
   "cell_type": "markdown",
   "metadata": {},
   "source": [
    "#### Step 4: \n",
    "Retrieve some additional data for the filtered materials from the Materials Project.\n",
    "\n",
    "\n",
    "Note that our goal is to the retrieve the structure and some other major properties of filtered materials only for the stable materails, hence specifying the threshold for the energy_above_hull (0)."
   ]
  },
  {
   "cell_type": "code",
   "execution_count": 39,
   "metadata": {},
   "outputs": [],
   "source": [
    "def clean_column_names(df):\n",
    "    for col in df.columns:\n",
    "        # Check if the column name is not a string or a proper name\n",
    "        if not isinstance(col, str) or not col.isidentifier():\n",
    "            # Extract the first element of the first row as a potential column name\n",
    "            new_col_name = df[col].iloc[0][0] if isinstance(df[col].iloc[0], tuple) else str(df[col].iloc[0])\n",
    "            \n",
    "            # Assign the new column name\n",
    "            df = df.rename(columns={col: new_col_name})\n",
    "    \n",
    "    return df"
   ]
  },
  {
   "cell_type": "code",
   "execution_count": 40,
   "metadata": {},
   "outputs": [],
   "source": [
    "exp_data = exp_data.sample(10)"
   ]
  },
  {
   "cell_type": "code",
   "execution_count": null,
   "metadata": {},
   "outputs": [],
   "source": [
    "dataframes_to_concat = []\n",
    "unstable_materials = []\n",
    "others = []\n",
    "\n",
    "mpr = MPRester(api_key=mapi_key)\n",
    "\n",
    "for index, row in exp_data.iterrows():\n",
    "    composition = str(row['composition'])\n",
    "    band_gap = row['band_gap']\n",
    "    is_processed = False\n",
    "\n",
    "    print(f\"Prcoessing material number : {index}/{len(exp_data)}\")\n",
    "\n",
    "    docs = mpr.summary.search(\n",
    "        formula=composition,\n",
    "        energy_above_hull=(0,0),\n",
    "        all_fields=False,\n",
    "        fields=[\n",
    "            'nelements', 'formula_pretty', 'volume', 'density', 'density_atomic',\n",
    "            'structure', 'uncorrected_energy_per_atom', 'energy_per_atom',\n",
    "            'formation_energy_per_atom', 'efermi', 'is_gap_direct',\n",
    "            'total_magnetization', 'total_magnetization_normalized_vol',\n",
    "            'total_magnetization_normalized_formula_units'\n",
    "        ]\n",
    "    )\n",
    "\n",
    "    if len(docs) != 0:\n",
    "        sdf = pd.DataFrame([docs[0]])\n",
    "        sdf = clean_column_names(sdf)\n",
    "        sdf['composition'] = composition\n",
    "        sdf['band_gap'] = band_gap\n",
    "        dataframes_to_concat.append(sdf)\n",
    "        is_processed = True\n",
    "    else:\n",
    "        unstable_materials.append(composition)\n",
    "        is_processed = True\n",
    "\n",
    "    if not is_processed:\n",
    "        others.append(composition)"
   ]
  },
  {
   "cell_type": "code",
   "execution_count": 42,
   "metadata": {},
   "outputs": [
    {
     "name": "stdout",
     "output_type": "stream",
     "text": [
      "Total number of stable materials: 4\n",
      "Total number of unstable materials: 6\n",
      "Total number of corrupted materials: 0\n"
     ]
    }
   ],
   "source": [
    "print(f\"Total number of stable materials: {len(dataframes_to_concat)}\")\n",
    "print(f\"Total number of unstable materials: {len(unstable_materials)}\")\n",
    "print(f\"Total number of corrupted materials: {len(others)}\")"
   ]
  },
  {
   "cell_type": "code",
   "execution_count": 43,
   "metadata": {},
   "outputs": [
    {
     "data": {
      "text/plain": [
       "(4, 70)"
      ]
     },
     "execution_count": 43,
     "metadata": {},
     "output_type": "execute_result"
    }
   ],
   "source": [
    "# Creating a dataframe of stable materials\n",
    "\n",
    "result_df = pd.concat(dataframes_to_concat, ignore_index=True)\n",
    "result_df.shape"
   ]
  },
  {
   "cell_type": "code",
   "execution_count": 44,
   "metadata": {},
   "outputs": [
    {
     "data": {
      "text/html": [
       "<div>\n",
       "<style scoped>\n",
       "    .dataframe tbody tr th:only-of-type {\n",
       "        vertical-align: middle;\n",
       "    }\n",
       "\n",
       "    .dataframe tbody tr th {\n",
       "        vertical-align: top;\n",
       "    }\n",
       "\n",
       "    .dataframe thead th {\n",
       "        text-align: right;\n",
       "    }\n",
       "</style>\n",
       "<table border=\"1\" class=\"dataframe\">\n",
       "  <thead>\n",
       "    <tr style=\"text-align: right;\">\n",
       "      <th></th>\n",
       "      <th>builder_meta</th>\n",
       "      <th>nsites</th>\n",
       "      <th>elements</th>\n",
       "      <th>nelements</th>\n",
       "      <th>composition</th>\n",
       "      <th>composition_reduced</th>\n",
       "      <th>formula_pretty</th>\n",
       "      <th>formula_anonymous</th>\n",
       "      <th>chemsys</th>\n",
       "      <th>volume</th>\n",
       "      <th>...</th>\n",
       "      <th>weighted_surface_energy</th>\n",
       "      <th>weighted_work_function</th>\n",
       "      <th>surface_anisotropy</th>\n",
       "      <th>shape_factor</th>\n",
       "      <th>has_reconstructed</th>\n",
       "      <th>possible_species</th>\n",
       "      <th>has_props</th>\n",
       "      <th>theoretical</th>\n",
       "      <th>database_IDs</th>\n",
       "      <th>fields_not_requested</th>\n",
       "    </tr>\n",
       "  </thead>\n",
       "  <tbody>\n",
       "    <tr>\n",
       "      <th>0</th>\n",
       "      <td>(builder_meta, None)</td>\n",
       "      <td>(nsites, None)</td>\n",
       "      <td>(elements, None)</td>\n",
       "      <td>(nelements, 3)</td>\n",
       "      <td>ZnSnP2</td>\n",
       "      <td>(composition_reduced, None)</td>\n",
       "      <td>(formula_pretty, ZnSnP2)</td>\n",
       "      <td>(formula_anonymous, None)</td>\n",
       "      <td>(chemsys, None)</td>\n",
       "      <td>(volume, 180.59078792277623)</td>\n",
       "      <td>...</td>\n",
       "      <td>(weighted_surface_energy, None)</td>\n",
       "      <td>(weighted_work_function, None)</td>\n",
       "      <td>(surface_anisotropy, None)</td>\n",
       "      <td>(shape_factor, None)</td>\n",
       "      <td>(has_reconstructed, None)</td>\n",
       "      <td>(possible_species, None)</td>\n",
       "      <td>(has_props, None)</td>\n",
       "      <td>(theoretical, None)</td>\n",
       "      <td>(database_IDs, None)</td>\n",
       "      <td>(fields_not_requested, [builder_meta, nsites, ...</td>\n",
       "    </tr>\n",
       "    <tr>\n",
       "      <th>1</th>\n",
       "      <td>(builder_meta, None)</td>\n",
       "      <td>(nsites, None)</td>\n",
       "      <td>(elements, None)</td>\n",
       "      <td>(nelements, 4)</td>\n",
       "      <td>Ba3In2P4O16</td>\n",
       "      <td>(composition_reduced, None)</td>\n",
       "      <td>(formula_pretty, Ba3In2(PO4)4)</td>\n",
       "      <td>(formula_anonymous, None)</td>\n",
       "      <td>(chemsys, None)</td>\n",
       "      <td>(volume, 748.7657292020361)</td>\n",
       "      <td>...</td>\n",
       "      <td>(weighted_surface_energy, None)</td>\n",
       "      <td>(weighted_work_function, None)</td>\n",
       "      <td>(surface_anisotropy, None)</td>\n",
       "      <td>(shape_factor, None)</td>\n",
       "      <td>(has_reconstructed, None)</td>\n",
       "      <td>(possible_species, None)</td>\n",
       "      <td>(has_props, None)</td>\n",
       "      <td>(theoretical, None)</td>\n",
       "      <td>(database_IDs, None)</td>\n",
       "      <td>(fields_not_requested, [builder_meta, nsites, ...</td>\n",
       "    </tr>\n",
       "    <tr>\n",
       "      <th>2</th>\n",
       "      <td>(builder_meta, None)</td>\n",
       "      <td>(nsites, None)</td>\n",
       "      <td>(elements, None)</td>\n",
       "      <td>(nelements, 3)</td>\n",
       "      <td>Cu3NbSe4</td>\n",
       "      <td>(composition_reduced, None)</td>\n",
       "      <td>(formula_pretty, NbCu3Se4)</td>\n",
       "      <td>(formula_anonymous, None)</td>\n",
       "      <td>(chemsys, None)</td>\n",
       "      <td>(volume, 181.82844767762958)</td>\n",
       "      <td>...</td>\n",
       "      <td>(weighted_surface_energy, None)</td>\n",
       "      <td>(weighted_work_function, None)</td>\n",
       "      <td>(surface_anisotropy, None)</td>\n",
       "      <td>(shape_factor, None)</td>\n",
       "      <td>(has_reconstructed, None)</td>\n",
       "      <td>(possible_species, None)</td>\n",
       "      <td>(has_props, None)</td>\n",
       "      <td>(theoretical, None)</td>\n",
       "      <td>(database_IDs, None)</td>\n",
       "      <td>(fields_not_requested, [builder_meta, nsites, ...</td>\n",
       "    </tr>\n",
       "    <tr>\n",
       "      <th>3</th>\n",
       "      <td>(builder_meta, None)</td>\n",
       "      <td>(nsites, None)</td>\n",
       "      <td>(elements, None)</td>\n",
       "      <td>(nelements, 2)</td>\n",
       "      <td>SnBr2</td>\n",
       "      <td>(composition_reduced, None)</td>\n",
       "      <td>(formula_pretty, SnBr2)</td>\n",
       "      <td>(formula_anonymous, None)</td>\n",
       "      <td>(chemsys, None)</td>\n",
       "      <td>(volume, 106.50399856128574)</td>\n",
       "      <td>...</td>\n",
       "      <td>(weighted_surface_energy, None)</td>\n",
       "      <td>(weighted_work_function, None)</td>\n",
       "      <td>(surface_anisotropy, None)</td>\n",
       "      <td>(shape_factor, None)</td>\n",
       "      <td>(has_reconstructed, None)</td>\n",
       "      <td>(possible_species, None)</td>\n",
       "      <td>(has_props, None)</td>\n",
       "      <td>(theoretical, None)</td>\n",
       "      <td>(database_IDs, None)</td>\n",
       "      <td>(fields_not_requested, [builder_meta, nsites, ...</td>\n",
       "    </tr>\n",
       "  </tbody>\n",
       "</table>\n",
       "<p>4 rows × 70 columns</p>\n",
       "</div>"
      ],
      "text/plain": [
       "           builder_meta          nsites          elements       nelements  \\\n",
       "0  (builder_meta, None)  (nsites, None)  (elements, None)  (nelements, 3)   \n",
       "1  (builder_meta, None)  (nsites, None)  (elements, None)  (nelements, 4)   \n",
       "2  (builder_meta, None)  (nsites, None)  (elements, None)  (nelements, 3)   \n",
       "3  (builder_meta, None)  (nsites, None)  (elements, None)  (nelements, 2)   \n",
       "\n",
       "   composition          composition_reduced                  formula_pretty  \\\n",
       "0       ZnSnP2  (composition_reduced, None)        (formula_pretty, ZnSnP2)   \n",
       "1  Ba3In2P4O16  (composition_reduced, None)  (formula_pretty, Ba3In2(PO4)4)   \n",
       "2     Cu3NbSe4  (composition_reduced, None)      (formula_pretty, NbCu3Se4)   \n",
       "3        SnBr2  (composition_reduced, None)         (formula_pretty, SnBr2)   \n",
       "\n",
       "           formula_anonymous          chemsys                        volume  \\\n",
       "0  (formula_anonymous, None)  (chemsys, None)  (volume, 180.59078792277623)   \n",
       "1  (formula_anonymous, None)  (chemsys, None)   (volume, 748.7657292020361)   \n",
       "2  (formula_anonymous, None)  (chemsys, None)  (volume, 181.82844767762958)   \n",
       "3  (formula_anonymous, None)  (chemsys, None)  (volume, 106.50399856128574)   \n",
       "\n",
       "   ...          weighted_surface_energy          weighted_work_function  \\\n",
       "0  ...  (weighted_surface_energy, None)  (weighted_work_function, None)   \n",
       "1  ...  (weighted_surface_energy, None)  (weighted_work_function, None)   \n",
       "2  ...  (weighted_surface_energy, None)  (weighted_work_function, None)   \n",
       "3  ...  (weighted_surface_energy, None)  (weighted_work_function, None)   \n",
       "\n",
       "           surface_anisotropy          shape_factor  \\\n",
       "0  (surface_anisotropy, None)  (shape_factor, None)   \n",
       "1  (surface_anisotropy, None)  (shape_factor, None)   \n",
       "2  (surface_anisotropy, None)  (shape_factor, None)   \n",
       "3  (surface_anisotropy, None)  (shape_factor, None)   \n",
       "\n",
       "           has_reconstructed          possible_species          has_props  \\\n",
       "0  (has_reconstructed, None)  (possible_species, None)  (has_props, None)   \n",
       "1  (has_reconstructed, None)  (possible_species, None)  (has_props, None)   \n",
       "2  (has_reconstructed, None)  (possible_species, None)  (has_props, None)   \n",
       "3  (has_reconstructed, None)  (possible_species, None)  (has_props, None)   \n",
       "\n",
       "           theoretical          database_IDs  \\\n",
       "0  (theoretical, None)  (database_IDs, None)   \n",
       "1  (theoretical, None)  (database_IDs, None)   \n",
       "2  (theoretical, None)  (database_IDs, None)   \n",
       "3  (theoretical, None)  (database_IDs, None)   \n",
       "\n",
       "                                fields_not_requested  \n",
       "0  (fields_not_requested, [builder_meta, nsites, ...  \n",
       "1  (fields_not_requested, [builder_meta, nsites, ...  \n",
       "2  (fields_not_requested, [builder_meta, nsites, ...  \n",
       "3  (fields_not_requested, [builder_meta, nsites, ...  \n",
       "\n",
       "[4 rows x 70 columns]"
      ]
     },
     "execution_count": 44,
     "metadata": {},
     "output_type": "execute_result"
    }
   ],
   "source": [
    "result_df"
   ]
  },
  {
   "cell_type": "markdown",
   "metadata": {},
   "source": [
    "#### Step 5:\n",
    "\n",
    "Transform Data"
   ]
  },
  {
   "cell_type": "code",
   "execution_count": 45,
   "metadata": {},
   "outputs": [
    {
     "data": {
      "text/html": [
       "<div>\n",
       "<style scoped>\n",
       "    .dataframe tbody tr th:only-of-type {\n",
       "        vertical-align: middle;\n",
       "    }\n",
       "\n",
       "    .dataframe tbody tr th {\n",
       "        vertical-align: top;\n",
       "    }\n",
       "\n",
       "    .dataframe thead th {\n",
       "        text-align: right;\n",
       "    }\n",
       "</style>\n",
       "<table border=\"1\" class=\"dataframe\">\n",
       "  <thead>\n",
       "    <tr style=\"text-align: right;\">\n",
       "      <th></th>\n",
       "      <th>builder_meta</th>\n",
       "      <th>nsites</th>\n",
       "      <th>elements</th>\n",
       "      <th>nelements</th>\n",
       "      <th>composition</th>\n",
       "      <th>composition_reduced</th>\n",
       "      <th>formula_pretty</th>\n",
       "      <th>formula_anonymous</th>\n",
       "      <th>chemsys</th>\n",
       "      <th>volume</th>\n",
       "      <th>...</th>\n",
       "      <th>weighted_surface_energy</th>\n",
       "      <th>weighted_work_function</th>\n",
       "      <th>surface_anisotropy</th>\n",
       "      <th>shape_factor</th>\n",
       "      <th>has_reconstructed</th>\n",
       "      <th>possible_species</th>\n",
       "      <th>has_props</th>\n",
       "      <th>theoretical</th>\n",
       "      <th>database_IDs</th>\n",
       "      <th>fields_not_requested</th>\n",
       "    </tr>\n",
       "  </thead>\n",
       "  <tbody>\n",
       "    <tr>\n",
       "      <th>0</th>\n",
       "      <td>None</td>\n",
       "      <td>None</td>\n",
       "      <td>None</td>\n",
       "      <td>3</td>\n",
       "      <td>ZnSnP2</td>\n",
       "      <td>None</td>\n",
       "      <td>ZnSnP2</td>\n",
       "      <td>None</td>\n",
       "      <td>None</td>\n",
       "      <td>180.590788</td>\n",
       "      <td>...</td>\n",
       "      <td>None</td>\n",
       "      <td>None</td>\n",
       "      <td>None</td>\n",
       "      <td>None</td>\n",
       "      <td>None</td>\n",
       "      <td>None</td>\n",
       "      <td>None</td>\n",
       "      <td>None</td>\n",
       "      <td>None</td>\n",
       "      <td>[builder_meta, nsites, elements, composition, ...</td>\n",
       "    </tr>\n",
       "    <tr>\n",
       "      <th>1</th>\n",
       "      <td>None</td>\n",
       "      <td>None</td>\n",
       "      <td>None</td>\n",
       "      <td>4</td>\n",
       "      <td>Ba3In2P4O16</td>\n",
       "      <td>None</td>\n",
       "      <td>Ba3In2(PO4)4</td>\n",
       "      <td>None</td>\n",
       "      <td>None</td>\n",
       "      <td>748.765729</td>\n",
       "      <td>...</td>\n",
       "      <td>None</td>\n",
       "      <td>None</td>\n",
       "      <td>None</td>\n",
       "      <td>None</td>\n",
       "      <td>None</td>\n",
       "      <td>None</td>\n",
       "      <td>None</td>\n",
       "      <td>None</td>\n",
       "      <td>None</td>\n",
       "      <td>[builder_meta, nsites, elements, composition, ...</td>\n",
       "    </tr>\n",
       "    <tr>\n",
       "      <th>2</th>\n",
       "      <td>None</td>\n",
       "      <td>None</td>\n",
       "      <td>None</td>\n",
       "      <td>3</td>\n",
       "      <td>Cu3NbSe4</td>\n",
       "      <td>None</td>\n",
       "      <td>NbCu3Se4</td>\n",
       "      <td>None</td>\n",
       "      <td>None</td>\n",
       "      <td>181.828448</td>\n",
       "      <td>...</td>\n",
       "      <td>None</td>\n",
       "      <td>None</td>\n",
       "      <td>None</td>\n",
       "      <td>None</td>\n",
       "      <td>None</td>\n",
       "      <td>None</td>\n",
       "      <td>None</td>\n",
       "      <td>None</td>\n",
       "      <td>None</td>\n",
       "      <td>[builder_meta, nsites, elements, composition, ...</td>\n",
       "    </tr>\n",
       "    <tr>\n",
       "      <th>3</th>\n",
       "      <td>None</td>\n",
       "      <td>None</td>\n",
       "      <td>None</td>\n",
       "      <td>2</td>\n",
       "      <td>SnBr2</td>\n",
       "      <td>None</td>\n",
       "      <td>SnBr2</td>\n",
       "      <td>None</td>\n",
       "      <td>None</td>\n",
       "      <td>106.503999</td>\n",
       "      <td>...</td>\n",
       "      <td>None</td>\n",
       "      <td>None</td>\n",
       "      <td>None</td>\n",
       "      <td>None</td>\n",
       "      <td>None</td>\n",
       "      <td>None</td>\n",
       "      <td>None</td>\n",
       "      <td>None</td>\n",
       "      <td>None</td>\n",
       "      <td>[builder_meta, nsites, elements, composition, ...</td>\n",
       "    </tr>\n",
       "  </tbody>\n",
       "</table>\n",
       "<p>4 rows × 70 columns</p>\n",
       "</div>"
      ],
      "text/plain": [
       "  builder_meta nsites elements  nelements  composition composition_reduced  \\\n",
       "0         None   None     None          3       ZnSnP2                None   \n",
       "1         None   None     None          4  Ba3In2P4O16                None   \n",
       "2         None   None     None          3     Cu3NbSe4                None   \n",
       "3         None   None     None          2        SnBr2                None   \n",
       "\n",
       "  formula_pretty formula_anonymous chemsys      volume  ...  \\\n",
       "0         ZnSnP2              None    None  180.590788  ...   \n",
       "1   Ba3In2(PO4)4              None    None  748.765729  ...   \n",
       "2       NbCu3Se4              None    None  181.828448  ...   \n",
       "3          SnBr2              None    None  106.503999  ...   \n",
       "\n",
       "   weighted_surface_energy  weighted_work_function surface_anisotropy  \\\n",
       "0                     None                    None               None   \n",
       "1                     None                    None               None   \n",
       "2                     None                    None               None   \n",
       "3                     None                    None               None   \n",
       "\n",
       "  shape_factor has_reconstructed possible_species has_props theoretical  \\\n",
       "0         None              None             None      None        None   \n",
       "1         None              None             None      None        None   \n",
       "2         None              None             None      None        None   \n",
       "3         None              None             None      None        None   \n",
       "\n",
       "  database_IDs                               fields_not_requested  \n",
       "0         None  [builder_meta, nsites, elements, composition, ...  \n",
       "1         None  [builder_meta, nsites, elements, composition, ...  \n",
       "2         None  [builder_meta, nsites, elements, composition, ...  \n",
       "3         None  [builder_meta, nsites, elements, composition, ...  \n",
       "\n",
       "[4 rows x 70 columns]"
      ]
     },
     "execution_count": 45,
     "metadata": {},
     "output_type": "execute_result"
    }
   ],
   "source": [
    "for column_name in result_df.columns:\n",
    "    # Update values only if they are tuples\n",
    "    result_df[column_name] = result_df[column_name].apply(lambda x: x[1] if isinstance(x, tuple) else x)\n",
    "    \n",
    "result_df"
   ]
  },
  {
   "cell_type": "markdown",
   "metadata": {},
   "source": [
    "#### Step 6:\n",
    "Check for Nan values and drop extra columns"
   ]
  },
  {
   "cell_type": "code",
   "execution_count": 46,
   "metadata": {},
   "outputs": [],
   "source": [
    "result_df.drop('fields_not_requested', axis=1 , inplace=True)"
   ]
  },
  {
   "cell_type": "code",
   "execution_count": 47,
   "metadata": {},
   "outputs": [
    {
     "data": {
      "text/plain": [
       "builder_meta         4\n",
       "nsites               4\n",
       "elements             4\n",
       "nelements            0\n",
       "composition          0\n",
       "                    ..\n",
       "has_reconstructed    4\n",
       "possible_species     4\n",
       "has_props            4\n",
       "theoretical          4\n",
       "database_IDs         4\n",
       "Length: 69, dtype: int64"
      ]
     },
     "execution_count": 47,
     "metadata": {},
     "output_type": "execute_result"
    }
   ],
   "source": [
    "result_df.isna().sum()"
   ]
  },
  {
   "cell_type": "markdown",
   "metadata": {},
   "source": [
    "#### Step 7: \n",
    "Create Descriptors"
   ]
  },
  {
   "cell_type": "code",
   "execution_count": 48,
   "metadata": {},
   "outputs": [],
   "source": [
    "# Creating Jarvis descriptors from structures\n",
    "\n",
    "jf = JarvisCFID()"
   ]
  },
  {
   "cell_type": "code",
   "execution_count": 52,
   "metadata": {},
   "outputs": [
    {
     "data": {
      "application/vnd.jupyter.widget-view+json": {
       "model_id": "c11f3f8236d048928de9c2f7a8283a5f",
       "version_major": 2,
       "version_minor": 0
      },
      "text/plain": [
       "JarvisCFID:   0%|          | 0/4 [00:00<?, ?it/s]"
      ]
     },
     "metadata": {},
     "output_type": "display_data"
    }
   ],
   "source": [
    "jarvis_df = jf.featurize_dataframe(result_df, col_id=\"structure\", ignore_errors=True)"
   ]
  },
  {
   "cell_type": "code",
   "execution_count": 53,
   "metadata": {},
   "outputs": [
    {
     "data": {
      "text/plain": [
       "4"
      ]
     },
     "execution_count": 53,
     "metadata": {},
     "output_type": "execute_result"
    }
   ],
   "source": [
    "# Check rows with the Nan enteries\n",
    "\n",
    "rows_with_nan = jarvis_df[jarvis_df.isna().any(axis=1)]\n",
    "num_rows_with_nan = len(rows_with_nan)\n",
    "num_rows_with_nan"
   ]
  },
  {
   "cell_type": "code",
   "execution_count": 54,
   "metadata": {},
   "outputs": [
    {
     "data": {
      "text/plain": [
       "(4, 1626)"
      ]
     },
     "execution_count": 54,
     "metadata": {},
     "output_type": "execute_result"
    }
   ],
   "source": [
    "# Dropping Nan rows\n",
    "\n",
    "jarvis_df.dropna(inplace=True)\n",
    "jarvis_df.shape"
   ]
  },
  {
   "cell_type": "code",
   "execution_count": 55,
   "metadata": {},
   "outputs": [
    {
     "data": {
      "application/vnd.jupyter.widget-view+json": {
       "model_id": "926de0604e904607bed9bc55480b052a",
       "version_major": 2,
       "version_minor": 0
      },
      "text/plain": [
       "StrToComposition:   0%|          | 0/4 [00:00<?, ?it/s]"
      ]
     },
     "metadata": {},
     "output_type": "display_data"
    },
    {
     "data": {
      "application/vnd.jupyter.widget-view+json": {
       "model_id": "34de35d9939a4f9e847fd979c45e2fad",
       "version_major": 2,
       "version_minor": 0
      },
      "text/plain": [
       "ElementProperty:   0%|          | 0/4 [00:00<?, ?it/s]"
      ]
     },
     "metadata": {},
     "output_type": "display_data"
    },
    {
     "data": {
      "text/plain": [
       "(4, 1759)"
      ]
     },
     "execution_count": 55,
     "metadata": {},
     "output_type": "execute_result"
    }
   ],
   "source": [
    "# Creating Magpie descriptors from compositions\n",
    "\n",
    "comp_df = jarvis_df.copy()\n",
    "str_to_comp = StrToComposition(target_col_id='composition_pmg')\n",
    "comp_df = str_to_comp.featurize_dataframe(comp_df, col_id='composition')\n",
    "\n",
    "featurizer = ElementProperty.from_preset('magpie')\n",
    "comp_df = featurizer.featurize_dataframe(comp_df, col_id='composition_pmg', ignore_errors=True)\n",
    "comp_df.shape"
   ]
  },
  {
   "cell_type": "code",
   "execution_count": 56,
   "metadata": {},
   "outputs": [
    {
     "data": {
      "text/plain": [
       "4"
      ]
     },
     "execution_count": 56,
     "metadata": {},
     "output_type": "execute_result"
    }
   ],
   "source": [
    "# Check for the Nan values, and drop if any.\n",
    "\n",
    "rows_with_nan = comp_df[comp_df.isna().any(axis=1)]\n",
    "num_rows_with_nan = len(rows_with_nan)\n",
    "num_rows_with_nan"
   ]
  },
  {
   "cell_type": "code",
   "execution_count": 57,
   "metadata": {},
   "outputs": [
    {
     "data": {
      "text/plain": [
       "(4, 1759)"
      ]
     },
     "execution_count": 57,
     "metadata": {},
     "output_type": "execute_result"
    }
   ],
   "source": [
    "comp_df.shape"
   ]
  },
  {
   "cell_type": "code",
   "execution_count": null,
   "metadata": {},
   "outputs": [],
   "source": [
    "# Save processed data\n",
    "\n",
    "comp_df.to_csv('../data/processed/exp_materials_with_jarvis_and_magpie.csv', index=False)"
   ]
  },
  {
   "cell_type": "markdown",
   "metadata": {},
   "source": [
    "### Create Train and Test sets"
   ]
  },
  {
   "cell_type": "code",
   "execution_count": null,
   "metadata": {},
   "outputs": [],
   "source": [
    "with open('../data/amp_test_materials.txt', 'r') as file:\n",
    "    amp_test_compositions = file.read().splitlines()\n",
    "    \n",
    "len(amp_test_compositions)"
   ]
  },
  {
   "cell_type": "code",
   "execution_count": null,
   "metadata": {},
   "outputs": [],
   "source": [
    "with open('../data/exp_test_materials.txt', 'r') as file:\n",
    "    exp_test_compositions = file.read().splitlines()\n",
    "    \n",
    "len(exp_test_compositions)"
   ]
  },
  {
   "cell_type": "code",
   "execution_count": null,
   "metadata": {},
   "outputs": [],
   "source": [
    "benchmark_materials = amp_test_compositions + exp_test_compositions\n",
    "len(benchmark_materials)"
   ]
  },
  {
   "cell_type": "code",
   "execution_count": null,
   "metadata": {},
   "outputs": [],
   "source": [
    "test_df = comp_df[comp_df['composition'].isin(benchmark_materials)]\n",
    "test_df.shape"
   ]
  },
  {
   "cell_type": "code",
   "execution_count": null,
   "metadata": {},
   "outputs": [],
   "source": [
    "indices_to_remove = test_df.index\n",
    "indices_to_remove\n",
    "\n",
    "train_df = comp_df.drop(indices_to_remove)\n",
    "train_df.shape"
   ]
  },
  {
   "cell_type": "code",
   "execution_count": null,
   "metadata": {},
   "outputs": [],
   "source": [
    "test_distribution = train_df.sample(frac=0.1, random_state=42)\n",
    "train_distribution = train_df.drop(test_samples.index)\n",
    "\n",
    "train_distribution.shape, test_distribution.shape"
   ]
  },
  {
   "cell_type": "code",
   "execution_count": null,
   "metadata": {},
   "outputs": [],
   "source": [
    "test_set = pd.concat([test_distribution, test_df], ignore_index=True)\n",
    "train_set = train_distribution\n",
    "\n",
    "train_set.reset_index(drop=True, inplace=True)\n",
    "test_set.reset_index(drop=True, inplace=True)\n",
    "\n",
    "train_set.shape, test_set.shape"
   ]
  },
  {
   "cell_type": "code",
   "execution_count": null,
   "metadata": {},
   "outputs": [],
   "source": [
    "train_set.to_csv('../data/processed/train_set.csv', index=False)\n",
    "test_set.to_csv('../data/processed/test_set.csv', index=False)"
   ]
  },
  {
   "cell_type": "code",
   "execution_count": null,
   "metadata": {},
   "outputs": [],
   "source": []
  }
 ],
 "metadata": {
  "kernelspec": {
   "display_name": "Python 3 (ipykernel)",
   "language": "python",
   "name": "python3"
  },
  "language_info": {
   "codemirror_mode": {
    "name": "ipython",
    "version": 3
   },
   "file_extension": ".py",
   "mimetype": "text/x-python",
   "name": "python",
   "nbconvert_exporter": "python",
   "pygments_lexer": "ipython3",
   "version": "3.10.13"
  }
 },
 "nbformat": 4,
 "nbformat_minor": 2
}
